{
 "cells": [
  {
   "cell_type": "code",
   "execution_count": 2,
   "metadata": {},
   "outputs": [
    {
     "name": "stderr",
     "output_type": "stream",
     "text": [
      "/Users/jacob/opt/anaconda3/lib/python3.8/_collections_abc.py:832: MatplotlibDeprecationWarning: Support for setting the 'text.latex.preamble' or 'pgf.preamble' rcParam to a list of strings is deprecated since 3.3 and will be removed two minor releases later; set it to a single string instead.\n",
      "  self[key] = other[key]\n"
     ]
    }
   ],
   "source": [
    "import pandas as pd\n",
    "pd.options.mode.chained_assignment = None  # default='warn'\n",
    "import seaborn as sns\n",
    "import numpy as np\n",
    "import matplotlib as mpl\n",
    "import matplotlib.pyplot as plt\n",
    "import time\n",
    "params = {'text.latex.preamble' : [r'\\usepackage{siunitx}', r'\\usepackage{amsmath}']}\n",
    "plt.rcParams.update(params)"
   ]
  },
  {
   "cell_type": "code",
   "execution_count": 283,
   "metadata": {},
   "outputs": [],
   "source": [
    "# df_investors = pd.read_excel(\"cleaned_investors_final.xlsx\") --> 25 Nov updated final investor list given tweet reduction\n",
    "df_investors = pd.read_csv(\"cleaned_investors_final.csv\")\n",
    "df_investors.drop(columns='Unnamed: 0', inplace=True)\n",
    "\n",
    "#data format for df_investors should be: partner_uuid, name, username, country_code, city"
   ]
  },
  {
   "cell_type": "code",
   "execution_count": 3,
   "metadata": {},
   "outputs": [],
   "source": [
    "#load in the relevant tables\n",
    "#investors = pd.read_excel(\"final_investor_list.xlsx\")\n",
    "investment_partners = pd.read_csv(\"investment_partners.csv\")\n",
    "funding_rounds = pd.read_csv(\"funding_rounds.csv\")\n",
    "ipos = pd.read_csv(\"ipos.csv\")\n",
    "acquisitions = pd.read_csv(\"acquisitions.csv\")\n",
    "organizations = pd.read_csv(\"organizations.csv\")\n",
    "investments = pd.read_csv('investments.csv')"
   ]
  },
  {
   "cell_type": "code",
   "execution_count": 285,
   "metadata": {},
   "outputs": [],
   "source": [
    "#rename the column to match on and make final investors table, matching on investors' twitter handle\n",
    "df_investors.rename(columns = {'twitter_handle':'un'}, inplace = True)\n",
    "#investors = investors.merge(df_investors, how='left', on = 'un')"
   ]
  },
  {
   "cell_type": "code",
   "execution_count": 286,
   "metadata": {},
   "outputs": [
    {
     "data": {
      "text/plain": [
       "9638"
      ]
     },
     "execution_count": 286,
     "metadata": {},
     "output_type": "execute_result"
    }
   ],
   "source": [
    "#create model_df by matching the investors to investment_partners table and dropping unnecessary investment_partners columns\n",
    "df_investors.rename(columns = {'uuid': 'partner_uuid'}, inplace=True)\n",
    "model_df = df_investors.merge(investment_partners, how='left', on='partner_uuid')\n",
    "drop_cols = ['name_x', 'name_y', 'type', 'permalink', 'cb_url', 'rank', 'updated_at', \n",
    "             'created_at','partner_name', 'funding_round_name']\n",
    "model_df.drop(columns=drop_cols, inplace=True)\n",
    "model_df.rename(columns={'investor_uuid': 'investor_org_uuid', 'partner_uuid': 'investor_uuid', 'investor_name': 'investor_org_name'},inplace=True)\n",
    "len(model_df)"
   ]
  },
  {
   "cell_type": "code",
   "execution_count": 287,
   "metadata": {},
   "outputs": [
    {
     "name": "stdout",
     "output_type": "stream",
     "text": [
      "9638\n",
      "5260\n"
     ]
    }
   ],
   "source": [
    "#rename funding_round uuid and isolate only the funding rounds that were announced before 2016\n",
    "funding_rounds.rename(columns={'uuid':'funding_round_uuid'},inplace=True)\n",
    "#funding_rounds_2016 = funding_rounds[funding_rounds['announced_on']<\"2015-01-01\"]\n",
    "funding_rounds_2016 = funding_rounds\n",
    "\n",
    "#link the org_uuid from the funding rounds to the model_df\n",
    "model_df['org_uuid'] = model_df.funding_round_uuid.map(funding_rounds_2016.set_index('funding_round_uuid')['org_uuid'].to_dict())\n",
    "model_df['investor_org_type'] = model_df.investor_org_uuid.map(organizations.set_index('uuid')['type'].to_dict())\n",
    "model_df['investor_org_primary_role'] = model_df.investor_org_uuid.map(organizations.set_index('uuid')['primary_role'].to_dict())\n",
    "\n",
    "print(len(model_df))\n",
    "\n",
    "model_df['founded_on'] = model_df.org_uuid.map(organizations.set_index('uuid')['founded_on'].to_dict())\n",
    "model_df = model_df[model_df['founded_on']<\"2015-01-01\"]\n",
    "model_df['founded_on'] = pd.to_datetime(model_df['founded_on'], errors='coerce')\n",
    "model_df['founded_on'] = model_df['founded_on'].dt.year.astype(int)\n",
    "\n",
    "\n",
    "#drop the entries that did not have an org match and reset the index\n",
    "model_df = model_df[model_df['org_uuid'].notna()]\n",
    "model_df.reset_index(drop=True, inplace=True)\n",
    "print(len(model_df))"
   ]
  },
  {
   "cell_type": "code",
   "execution_count": 288,
   "metadata": {},
   "outputs": [
    {
     "data": {
      "text/plain": [
       "5260"
      ]
     },
     "execution_count": 288,
     "metadata": {},
     "output_type": "execute_result"
    }
   ],
   "source": [
    "#create a table summarizing the total amount raise for each funding round before 2016\n",
    "org_amount_raised_2016 = pd.pivot_table(funding_rounds_2016, values='raised_amount_usd', index=['org_uuid'], aggfunc=np.sum)\n",
    "org_amount_raised_2016['org_uuid'] = org_amount_raised_2016.index\n",
    "org_amount_raised_2016.reset_index(drop=True, inplace=True)\n",
    "\n",
    "#create a raise_amount_usd column that represents the total amount raised over all funding round for each organization\n",
    "#model_df['raised_amount_usd'] = model_df.org_uuid.map(org_amount_raised_2016.set_index('org_uuid')['raised_amount_usd'].to_dict())\n",
    "model_df['raised_amount_usd'] = model_df.org_uuid.map(organizations.set_index('uuid')['total_funding_usd'].to_dict())\n",
    "\n",
    "model_df['raised_amount_usd'].fillna(0, inplace=True)\n",
    "len(model_df)"
   ]
  },
  {
   "cell_type": "code",
   "execution_count": 289,
   "metadata": {},
   "outputs": [
    {
     "data": {
      "text/plain": [
       "5260"
      ]
     },
     "execution_count": 289,
     "metadata": {},
     "output_type": "execute_result"
    }
   ],
   "source": [
    "#create an IPO variable that returns 1 if the organization had an IPO and 0 if no IPO was reported\n",
    "model_df['ipo'] = model_df.org_uuid.map(ipos.set_index('org_uuid')['went_public_on'].to_dict())\n",
    "model_df['ipo'] = model_df['ipo'].isna()\n",
    "\n",
    "for x in range(0, len(model_df['ipo'])):\n",
    "    if model_df['ipo'].loc[x] == True:\n",
    "        model_df['ipo'].loc[x] = 0\n",
    "    else:\n",
    "        model_df['ipo'].loc[x] = 1\n",
    "len(model_df)"
   ]
  },
  {
   "cell_type": "code",
   "execution_count": 290,
   "metadata": {},
   "outputs": [
    {
     "data": {
      "text/plain": [
       "5260"
      ]
     },
     "execution_count": 290,
     "metadata": {},
     "output_type": "execute_result"
    }
   ],
   "source": [
    "#create an acquisition price variable that reports the price that an organization was acquired for\n",
    "model_df['acq_price_usd'] = model_df.org_uuid.map(acquisitions.set_index('acquiree_uuid')['price_usd'].to_dict())\n",
    "model_df['acq_price_usd'] = model_df['acq_price_usd'].fillna(0)\n",
    "len(model_df)"
   ]
  },
  {
   "cell_type": "code",
   "execution_count": 291,
   "metadata": {},
   "outputs": [
    {
     "data": {
      "text/plain": [
       "5260"
      ]
     },
     "execution_count": 291,
     "metadata": {},
     "output_type": "execute_result"
    }
   ],
   "source": [
    "#create a suc_acq variable that reports whether an investment was a successful acquisition based on if the acquisition price was greater than 1.5x the total amount raised\n",
    "model_df['suc_acq'] = model_df.index\n",
    "for x in range(0, len(model_df)):\n",
    "    if model_df['acq_price_usd'][x] >= 4*model_df['raised_amount_usd'][x] and model_df['acq_price_usd'][x] !=0 and model_df['raised_amount_usd'][x] != 0:\n",
    "        model_df['suc_acq'][x]=1\n",
    "    else:\n",
    "        model_df['suc_acq'][x]=0\n",
    "len(model_df)"
   ]
  },
  {
   "cell_type": "code",
   "execution_count": 292,
   "metadata": {},
   "outputs": [
    {
     "data": {
      "text/plain": [
       "5260"
      ]
     },
     "execution_count": 292,
     "metadata": {},
     "output_type": "execute_result"
    }
   ],
   "source": [
    "# create a successful exits dummy variable that is 1 if the investment IPO'd or was successfully acquired and 0 otherwise\n",
    "model_df['suc_exit'] = model_df.index\n",
    "for x in range(0, len(model_df)):\n",
    "    if model_df['ipo'][x]==1 or model_df['suc_acq'][x]==1:\n",
    "        model_df['suc_exit'][x]=1\n",
    "    else:\n",
    "        model_df['suc_exit'][x]=0\n",
    "len(model_df)\n",
    "\n",
    "#robustness iteration 1 --> only IPO\n",
    "# model_df['suc_exit'] = model_df.index\n",
    "# for x in range(0, len(model_df)):\n",
    "#     if model_df['ipo'][x]==1:\n",
    "#         model_df['suc_exit'][x]=1\n",
    "#     else:\n",
    "#         model_df['suc_exit'][x]=0\n",
    "# len(model_df)\n",
    "\n",
    "#robustness iteration 2 --> 4x acquisition\n",
    "# model_df['suc_exit'] = model_df.index\n",
    "# for x in range(0, len(model_df)):\n",
    "#     if model_df['ipo'][x]==1 or model_df['suc_acq'][x]==1:\n",
    "#         model_df['suc_exit'][x]=1\n",
    "#     else:\n",
    "#         model_df['suc_exit'][x]=0\n",
    "# len(model_df)"
   ]
  },
  {
   "cell_type": "code",
   "execution_count": 293,
   "metadata": {},
   "outputs": [
    {
     "data": {
      "text/plain": [
       "3475"
      ]
     },
     "execution_count": 293,
     "metadata": {},
     "output_type": "execute_result"
    }
   ],
   "source": [
    "#create a column that concatenates the investor and organizations together to remove cases where an investors invests in the same venture through multiple investment rounds\n",
    "model_df[\"investor_org_uuid_unique\"] = model_df[\"investor_uuid\"] + model_df[\"org_uuid\"]\n",
    "model_df = model_df.drop_duplicates(subset=[\"investor_org_uuid_unique\"])\n",
    "model_df.reset_index(drop=True, inplace=True)\n",
    "len(model_df)"
   ]
  },
  {
   "cell_type": "code",
   "execution_count": 294,
   "metadata": {},
   "outputs": [],
   "source": [
    "#drop columns used to build suc_exit variable so that they do not bias models\n",
    "drop_cols = ['investor_org_uuid_unique','ipo','acq_price_usd','suc_acq',]\n",
    "model_df.drop(columns=drop_cols, inplace=True)"
   ]
  },
  {
   "cell_type": "code",
   "execution_count": 295,
   "metadata": {},
   "outputs": [],
   "source": [
    "#add additional org columns for investments\n",
    "model_df['org_category_groups_list'] = model_df.org_uuid.map(organizations.set_index('uuid')['category_groups_list'].to_dict())\n",
    "model_df = model_df.dropna(subset=['org_category_groups_list'])\n",
    "model_df.reset_index(drop=True, inplace=True)\n",
    "model_df['org_category_groups_list'] = model_df['org_category_groups_list'].str.split(',')\n",
    "\n",
    "#add organization country code\n",
    "model_df['org_country_code'] = model_df.org_uuid.map(organizations.set_index('uuid')['country_code'].to_dict())\n",
    "\n",
    "#add organization city\n",
    "model_df['org_city'] = model_df.org_uuid.map(organizations.set_index('uuid')['city'].to_dict())\n",
    "\n",
    "#add number of funding rounds\n",
    "model_df['org_num_funding_rounds'] = model_df.org_uuid.map(organizations.set_index('uuid')['num_funding_rounds'].to_dict())\n",
    "\n",
    "#add employee count\n",
    "model_df['org_employee_count'] = model_df.org_uuid.map(organizations.set_index('uuid')['employee_count'].to_dict())"
   ]
  },
  {
   "cell_type": "code",
   "execution_count": 296,
   "metadata": {},
   "outputs": [
    {
     "name": "stdout",
     "output_type": "stream",
     "text": [
      "cell took 16.831119060516357 seconds\n"
     ]
    }
   ],
   "source": [
    "#create dummy columns for categoy list \n",
    "t0 = time.time()\n",
    "\n",
    "unique_cats = model_df['org_category_groups_list'].explode().unique() \n",
    "for cat in unique_cats:\n",
    "    model_df['org_cat_'+str(cat)] = \"\"\n",
    "for x in range(0, len(model_df)):\n",
    "    for cat in unique_cats:\n",
    "        if cat in model_df['org_category_groups_list'][x]:\n",
    "            model_df['org_cat_'+str(cat)][x]=1\n",
    "        else:\n",
    "            model_df['org_cat_'+str(cat)][x]=0\n",
    "    #print(x)\n",
    "t1 = time.time()\n",
    "total = (t1 - t0)\n",
    "print('cell took', total, 'seconds')\n",
    "model_df.columns = model_df.columns.str.lower()\n",
    "model_df.drop(columns=(['org_category_groups_list']),inplace=True)"
   ]
  },
  {
   "cell_type": "code",
   "execution_count": 297,
   "metadata": {},
   "outputs": [
    {
     "name": "stdout",
     "output_type": "stream",
     "text": [
      "9.576002307470436 percent successful exits in 3467 deals 951 unique investors\n"
     ]
    }
   ],
   "source": [
    "#successful exit rate\n",
    "print((model_df.suc_exit.sum() / len(model_df))*100, \"percent successful exits in\", len(model_df), \"deals\", model_df.investor_uuid.nunique(), \"unique investors\")"
   ]
  },
  {
   "cell_type": "code",
   "execution_count": 298,
   "metadata": {},
   "outputs": [],
   "source": [
    "robust_2 = model_df"
   ]
  },
  {
   "cell_type": "code",
   "execution_count": 301,
   "metadata": {},
   "outputs": [],
   "source": [
    "robust_2 = robust_2[model_df.columns.tolist()]\n",
    "robust_2.to_csv('model_df_rob2.csv')"
   ]
  },
  {
   "cell_type": "code",
   "execution_count": 302,
   "metadata": {},
   "outputs": [
    {
     "name": "stdout",
     "output_type": "stream",
     "text": [
      "test before: 407\n",
      "test after: 332\n",
      "test before: 407\n",
      "test after: 332\n"
     ]
    }
   ],
   "source": [
    "print('test before:', model_bf.suc_exit.sum())\n",
    "model_bf['suc_exit'] = robust_2['suc_exit']\n",
    "print('test after:', model_bf.suc_exit.sum())\n",
    "\n",
    "print('test before:', model_bf_facets.suc_exit.sum())\n",
    "model_bf_facets['suc_exit'] = robust_2['suc_exit']\n",
    "print('test after:', model_bf_facets.suc_exit.sum())\n",
    "\n",
    "model_bf.to_csv('model_bf_rob2.csv')\n",
    "model_bf_facets.to_csv('model_bf_facets_rob2.csv')"
   ]
  },
  {
   "cell_type": "code",
   "execution_count": 303,
   "metadata": {},
   "outputs": [
    {
     "name": "stdout",
     "output_type": "stream",
     "text": [
      "test before: 340\n",
      "test after: 205\n",
      "test before: 340.0\n",
      "test after: 205\n",
      "test before: 340.0\n",
      "test after: 205\n"
     ]
    }
   ],
   "source": [
    "print('test before:', model_hc.suc_exit.sum())\n",
    "model_hc['suc_exit'] = model_hc.investor_uuid.map(robust_2.set_index('investor_uuid')['suc_exit'].to_dict())\n",
    "print('test after:', model_hc.suc_exit.sum())\n",
    "\n",
    "print('test before:', model_bf_hc.suc_exit.sum())\n",
    "model_bf_hc['suc_exit'] = model_bf_hc.investor_uuid.map(robust_2.set_index('investor_uuid')['suc_exit'].to_dict())\n",
    "print('test after:', model_bf_hc.suc_exit.sum())\n",
    "\n",
    "print('test before:', model_bf_facets_hc.suc_exit.sum())\n",
    "model_bf_facets_hc['suc_exit'] = model_bf_facets_hc.investor_uuid.map(robust_2.set_index('investor_uuid')['suc_exit'].to_dict())\n",
    "print('test after:', model_bf_facets_hc.suc_exit.sum())"
   ]
  },
  {
   "cell_type": "code",
   "execution_count": 304,
   "metadata": {},
   "outputs": [],
   "source": [
    "model_hc.to_csv('model_hc_rob2.csv')\n",
    "model_bf_hc.to_csv('model_bf_hc_rob2.csv')\n",
    "model_bf_facets_hc.to_csv('model_bf_facets_hc_rob2.csv')"
   ]
  },
  {
   "cell_type": "code",
   "execution_count": 2862,
   "metadata": {},
   "outputs": [],
   "source": [
    "# model_df.to_csv('model_df_2_dec.csv')\n",
    "# model_df.to_csv('model_df_2_dec.csv')"
   ]
  }
 ],
 "metadata": {
  "kernelspec": {
   "display_name": "Python 3",
   "language": "python",
   "name": "python3"
  },
  "language_info": {
   "codemirror_mode": {
    "name": "ipython",
    "version": 3
   },
   "file_extension": ".py",
   "mimetype": "text/x-python",
   "name": "python",
   "nbconvert_exporter": "python",
   "pygments_lexer": "ipython3",
   "version": "3.8.5"
  }
 },
 "nbformat": 4,
 "nbformat_minor": 4
}
